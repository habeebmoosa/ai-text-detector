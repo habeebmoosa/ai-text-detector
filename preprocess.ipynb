{
 "cells": [
  {
   "cell_type": "code",
   "execution_count": 1,
   "metadata": {},
   "outputs": [],
   "source": [
    "import pandas as pd\n",
    "import re\n",
    "from nltk.tokenize import word_tokenize"
   ]
  },
  {
   "cell_type": "code",
   "execution_count": 2,
   "metadata": {},
   "outputs": [],
   "source": [
    "# old_df = pd.read_csv('DATA_SET/final_test.csv')\n",
    "# sub_df = old_df.sample(n=10000, random_state=1)\n",
    "# sub_df.to_csv('DATA_SET/final_test_10k.csv', index=False)"
   ]
  },
  {
   "cell_type": "code",
   "execution_count": 3,
   "metadata": {},
   "outputs": [],
   "source": [
    "df = pd.read_csv('input.csv')"
   ]
  },
  {
   "cell_type": "code",
   "execution_count": 4,
   "metadata": {},
   "outputs": [
    {
     "name": "stdout",
     "output_type": "stream",
     "text": [
      "text                    0\n",
      "cleaned_text            0\n",
      "char_count              0\n",
      "word_count              0\n",
      "word_density            0\n",
      "punctuation_count       0\n",
      "upper_case_count        0\n",
      "title_word_count        0\n",
      "noun_count              0\n",
      "adv_count               0\n",
      "verb_count              0\n",
      "adj_count               0\n",
      "pro_count               0\n",
      "topic_1_score           0\n",
      "topic_2_score           0\n",
      "topic_3_score           0\n",
      "topic_4_score           0\n",
      "topic_5_score           0\n",
      "topic_6_score           0\n",
      "topic_7_score           0\n",
      "topic_8_score           0\n",
      "topic_9_score           0\n",
      "topic_10_score          0\n",
      "topic_11_score          0\n",
      "topic_12_score          0\n",
      "topic_13_score          0\n",
      "topic_14_score          0\n",
      "topic_15_score          0\n",
      "topic_16_score          0\n",
      "topic_17_score          0\n",
      "topic_18_score          0\n",
      "topic_19_score          0\n",
      "topic_20_score          0\n",
      "flesch_kincaid_score    0\n",
      "flesch_score            0\n",
      "gunning_fog_score       0\n",
      "coleman_liau_score      0\n",
      "dale_chall_score        0\n",
      "ari_score               0\n",
      "linsear_write_score     0\n",
      "spache_score            0\n",
      "ner_count               0\n",
      "error_length            0\n",
      "dtype: int64\n"
     ]
    }
   ],
   "source": [
    "# Handling missing values\n",
    "\n",
    "print(df.isna().sum())\n",
    "\n",
    "df = df.dropna()"
   ]
  },
  {
   "cell_type": "code",
   "execution_count": 5,
   "metadata": {},
   "outputs": [],
   "source": [
    "# Data Cleaning\n",
    "\n",
    "def clean_text(text):\n",
    "    text = re.sub(r'[^a-zA-Z\\s]', '', text)\n",
    "    text = text.lower()\n",
    "\n",
    "    words = word_tokenize(text)\n",
    "\n",
    "    cleaned_text = ' '.join(words)\n",
    "    cleaned_text = re.sub(r'\\s+', ' ', cleaned_text).strip()\n",
    "    return cleaned_text\n",
    "\n",
    "df['cleaned_text'] = df['text'].apply(clean_text)"
   ]
  },
  {
   "cell_type": "code",
   "execution_count": 6,
   "metadata": {},
   "outputs": [],
   "source": [
    "# Space remover\n",
    "\n",
    "def space_remover(text):\n",
    "    words = word_tokenize(text)\n",
    "    text = ' '.join(words)\n",
    "    return re.sub(r'\\s+', ' ', text).strip()\n",
    "\n",
    "df['text'] = df['text'].apply(space_remover)"
   ]
  },
  {
   "cell_type": "code",
   "execution_count": 7,
   "metadata": {},
   "outputs": [
    {
     "data": {
      "text/html": [
       "<div>\n",
       "<style scoped>\n",
       "    .dataframe tbody tr th:only-of-type {\n",
       "        vertical-align: middle;\n",
       "    }\n",
       "\n",
       "    .dataframe tbody tr th {\n",
       "        vertical-align: top;\n",
       "    }\n",
       "\n",
       "    .dataframe thead th {\n",
       "        text-align: right;\n",
       "    }\n",
       "</style>\n",
       "<table border=\"1\" class=\"dataframe\">\n",
       "  <thead>\n",
       "    <tr style=\"text-align: right;\">\n",
       "      <th></th>\n",
       "      <th>text</th>\n",
       "      <th>cleaned_text</th>\n",
       "      <th>char_count</th>\n",
       "      <th>word_count</th>\n",
       "      <th>word_density</th>\n",
       "      <th>punctuation_count</th>\n",
       "      <th>upper_case_count</th>\n",
       "      <th>title_word_count</th>\n",
       "      <th>noun_count</th>\n",
       "      <th>adv_count</th>\n",
       "      <th>...</th>\n",
       "      <th>flesch_kincaid_score</th>\n",
       "      <th>flesch_score</th>\n",
       "      <th>gunning_fog_score</th>\n",
       "      <th>coleman_liau_score</th>\n",
       "      <th>dale_chall_score</th>\n",
       "      <th>ari_score</th>\n",
       "      <th>linsear_write_score</th>\n",
       "      <th>spache_score</th>\n",
       "      <th>ner_count</th>\n",
       "      <th>error_length</th>\n",
       "    </tr>\n",
       "  </thead>\n",
       "  <tbody>\n",
       "    <tr>\n",
       "      <th>0</th>\n",
       "      <td>In December 2016 , Google Duo replaced Hangout...</td>\n",
       "      <td>in december google duo replaced hangouts withi...</td>\n",
       "      <td>2295</td>\n",
       "      <td>391</td>\n",
       "      <td>0.17037</td>\n",
       "      <td>111</td>\n",
       "      <td>101</td>\n",
       "      <td>79</td>\n",
       "      <td>133</td>\n",
       "      <td>14</td>\n",
       "      <td>...</td>\n",
       "      <td>153.4</td>\n",
       "      <td>-308.48</td>\n",
       "      <td>160.29</td>\n",
       "      <td>12.45</td>\n",
       "      <td>27.47</td>\n",
       "      <td>197.0</td>\n",
       "      <td>62.0</td>\n",
       "      <td>57.73</td>\n",
       "      <td>43</td>\n",
       "      <td>87</td>\n",
       "    </tr>\n",
       "  </tbody>\n",
       "</table>\n",
       "<p>1 rows × 43 columns</p>\n",
       "</div>"
      ],
      "text/plain": [
       "                                                text  \\\n",
       "0  In December 2016 , Google Duo replaced Hangout...   \n",
       "\n",
       "                                        cleaned_text  char_count  word_count  \\\n",
       "0  in december google duo replaced hangouts withi...        2295         391   \n",
       "\n",
       "   word_density  punctuation_count  upper_case_count  title_word_count  \\\n",
       "0       0.17037                111               101                79   \n",
       "\n",
       "   noun_count  adv_count  ...  flesch_kincaid_score  flesch_score  \\\n",
       "0         133         14  ...                 153.4       -308.48   \n",
       "\n",
       "   gunning_fog_score  coleman_liau_score  dale_chall_score  ari_score  \\\n",
       "0             160.29               12.45             27.47      197.0   \n",
       "\n",
       "   linsear_write_score  spache_score  ner_count  error_length  \n",
       "0                 62.0         57.73         43            87  \n",
       "\n",
       "[1 rows x 43 columns]"
      ]
     },
     "execution_count": 7,
     "metadata": {},
     "output_type": "execute_result"
    }
   ],
   "source": [
    "df.head()"
   ]
  },
  {
   "cell_type": "code",
   "execution_count": 8,
   "metadata": {},
   "outputs": [],
   "source": [
    "df.to_csv('input.csv', index=False)"
   ]
  }
 ],
 "metadata": {
  "kernelspec": {
   "display_name": "Python 3",
   "language": "python",
   "name": "python3"
  },
  "language_info": {
   "codemirror_mode": {
    "name": "ipython",
    "version": 3
   },
   "file_extension": ".py",
   "mimetype": "text/x-python",
   "name": "python",
   "nbconvert_exporter": "python",
   "pygments_lexer": "ipython3",
   "version": "3.11.2"
  }
 },
 "nbformat": 4,
 "nbformat_minor": 2
}
