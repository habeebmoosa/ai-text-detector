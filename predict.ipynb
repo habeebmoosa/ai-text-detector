{
 "cells": [
  {
   "cell_type": "code",
   "execution_count": 1,
   "metadata": {},
   "outputs": [],
   "source": [
    "import pandas as pd\n",
    "import joblib"
   ]
  },
  {
   "cell_type": "code",
   "execution_count": 2,
   "metadata": {},
   "outputs": [],
   "source": [
    "df = pd.DataFrame()\n",
    "df['text'] = ['''In December 2016, Google Duo replaced Hangouts within the suite of Google apps device manufacturers must install in order to gain access to the Google Play, with Hangouts instead becoming optional.[5]\n",
    "\n",
    "In August 2020, it was reported that Google was planning to eventually merge Google Duo with the business-oriented Google Meet.[6] In December 2021 this objective had been dropped, but Duo continued to be available and updated.[7][1] In June 2022, Google reversed course and announced that Duo and Meet would, in fact, be merged.[8] The merger began in August, with the Duo mobile app renamed to Meet and the original Meet app renamed \"Meet Original\" and scheduled to be phased out. Google had said the Duo web app would redirected to the Google Meet web app, but as of April 2023, video calling and meetings are still separate on the web at duo.google.com and meet.google.com.[9]\n",
    "\n",
    "Google Duo was optimized for low-bandwidth mobile networks through WebRTC and uses QUIC over UDP. Optimization was further achieved through the degradation of video quality through monitoring network quality.[10] For packet loss concealment, Duo used Google DeepMind.[11]\n",
    "\n",
    "In February 2021, Google announced a new very low-bitrate codec for speech compression called \"Lyra\" that could operate with network speeds as low as 3kbps that avoided robotic voice audio and that was to be rolled out to Duo.[12]\n",
    "\n",
    "According to a technical study commissioned by Google from Signals Research Group in 2017 that compared degradation time over 3G,4G,5G and Wi-Fi, Duo provided the highest voice and video quality of any service or app.[13][14]\n",
    "\n",
    "\"Knock Knock\" showed a live preview of the caller before the recipient picked up, which Google said was to \"make calls feel more like an invitation rather than an interruption\".[15]\n",
    "\n",
    "In March 2017, it was announced that Google Duo would let users make audio-only calls. The feature was first launched in Brazil,[16][17][18] with a global rollout in April.[19]\n",
    "\n",
    "A year later in March 2018, video and voice messages were added to Duo. Users could leave messages up to 30 seconds long for contacts who were unavailable.[20]\n",
    "\n",
    "Support for eight-person video calls in both the iOS and Android versions of the app was added in May 2019.[21] In line with similar group calling offerings from FaceTime, Skype, WhatsApp, and Messenger, participants could join or leave the conversation at any time. Google Duo increased the maximum group size to 12 at the end of March 2020,[22][23] and to 32 by May 2022.[1]''']"
   ]
  },
  {
   "cell_type": "code",
   "execution_count": 3,
   "metadata": {},
   "outputs": [
    {
     "data": {
      "text/html": [
       "<div>\n",
       "<style scoped>\n",
       "    .dataframe tbody tr th:only-of-type {\n",
       "        vertical-align: middle;\n",
       "    }\n",
       "\n",
       "    .dataframe tbody tr th {\n",
       "        vertical-align: top;\n",
       "    }\n",
       "\n",
       "    .dataframe thead th {\n",
       "        text-align: right;\n",
       "    }\n",
       "</style>\n",
       "<table border=\"1\" class=\"dataframe\">\n",
       "  <thead>\n",
       "    <tr style=\"text-align: right;\">\n",
       "      <th></th>\n",
       "      <th>text</th>\n",
       "    </tr>\n",
       "  </thead>\n",
       "  <tbody>\n",
       "    <tr>\n",
       "      <th>0</th>\n",
       "      <td>In December 2016, Google Duo replaced Hangouts...</td>\n",
       "    </tr>\n",
       "  </tbody>\n",
       "</table>\n",
       "</div>"
      ],
      "text/plain": [
       "                                                text\n",
       "0  In December 2016, Google Duo replaced Hangouts..."
      ]
     },
     "execution_count": 3,
     "metadata": {},
     "output_type": "execute_result"
    }
   ],
   "source": [
    "df.head()"
   ]
  },
  {
   "cell_type": "code",
   "execution_count": 4,
   "metadata": {},
   "outputs": [],
   "source": [
    "df.to_csv('input.csv', index=False)"
   ]
  },
  {
   "cell_type": "code",
   "execution_count": 5,
   "metadata": {},
   "outputs": [],
   "source": [
    "tf = pd.read_csv('input.csv')"
   ]
  },
  {
   "cell_type": "code",
   "execution_count": 6,
   "metadata": {},
   "outputs": [
    {
     "data": {
      "text/html": [
       "<div>\n",
       "<style scoped>\n",
       "    .dataframe tbody tr th:only-of-type {\n",
       "        vertical-align: middle;\n",
       "    }\n",
       "\n",
       "    .dataframe tbody tr th {\n",
       "        vertical-align: top;\n",
       "    }\n",
       "\n",
       "    .dataframe thead th {\n",
       "        text-align: right;\n",
       "    }\n",
       "</style>\n",
       "<table border=\"1\" class=\"dataframe\">\n",
       "  <thead>\n",
       "    <tr style=\"text-align: right;\">\n",
       "      <th></th>\n",
       "      <th>text</th>\n",
       "      <th>cleaned_text</th>\n",
       "      <th>char_count</th>\n",
       "      <th>word_count</th>\n",
       "      <th>word_density</th>\n",
       "      <th>punctuation_count</th>\n",
       "      <th>upper_case_count</th>\n",
       "      <th>title_word_count</th>\n",
       "      <th>noun_count</th>\n",
       "      <th>adv_count</th>\n",
       "      <th>...</th>\n",
       "      <th>flesch_kincaid_score</th>\n",
       "      <th>flesch_score</th>\n",
       "      <th>gunning_fog_score</th>\n",
       "      <th>coleman_liau_score</th>\n",
       "      <th>dale_chall_score</th>\n",
       "      <th>ari_score</th>\n",
       "      <th>linsear_write_score</th>\n",
       "      <th>spache_score</th>\n",
       "      <th>ner_count</th>\n",
       "      <th>error_length</th>\n",
       "    </tr>\n",
       "  </thead>\n",
       "  <tbody>\n",
       "    <tr>\n",
       "      <th>0</th>\n",
       "      <td>In December 2016 , Google Duo replaced Hangout...</td>\n",
       "      <td>in december google duo replaced hangouts withi...</td>\n",
       "      <td>2295</td>\n",
       "      <td>391</td>\n",
       "      <td>0.17037</td>\n",
       "      <td>111</td>\n",
       "      <td>101</td>\n",
       "      <td>79</td>\n",
       "      <td>133</td>\n",
       "      <td>14</td>\n",
       "      <td>...</td>\n",
       "      <td>153.4</td>\n",
       "      <td>-308.48</td>\n",
       "      <td>160.29</td>\n",
       "      <td>12.45</td>\n",
       "      <td>27.47</td>\n",
       "      <td>197.0</td>\n",
       "      <td>62.0</td>\n",
       "      <td>57.73</td>\n",
       "      <td>43</td>\n",
       "      <td>87</td>\n",
       "    </tr>\n",
       "  </tbody>\n",
       "</table>\n",
       "<p>1 rows × 43 columns</p>\n",
       "</div>"
      ],
      "text/plain": [
       "                                                text  \\\n",
       "0  In December 2016 , Google Duo replaced Hangout...   \n",
       "\n",
       "                                        cleaned_text  char_count  word_count  \\\n",
       "0  in december google duo replaced hangouts withi...        2295         391   \n",
       "\n",
       "   word_density  punctuation_count  upper_case_count  title_word_count  \\\n",
       "0       0.17037                111               101                79   \n",
       "\n",
       "   noun_count  adv_count  ...  flesch_kincaid_score  flesch_score  \\\n",
       "0         133         14  ...                 153.4       -308.48   \n",
       "\n",
       "   gunning_fog_score  coleman_liau_score  dale_chall_score  ari_score  \\\n",
       "0             160.29               12.45             27.47      197.0   \n",
       "\n",
       "   linsear_write_score  spache_score  ner_count  error_length  \n",
       "0                 62.0         57.73         43            87  \n",
       "\n",
       "[1 rows x 43 columns]"
      ]
     },
     "execution_count": 6,
     "metadata": {},
     "output_type": "execute_result"
    }
   ],
   "source": [
    "tf.head()"
   ]
  },
  {
   "cell_type": "code",
   "execution_count": 7,
   "metadata": {},
   "outputs": [],
   "source": [
    "model = joblib.load('model/rf_model.pkl')"
   ]
  },
  {
   "cell_type": "code",
   "execution_count": 8,
   "metadata": {},
   "outputs": [
    {
     "name": "stdout",
     "output_type": "stream",
     "text": [
      "Prediction Probabilities: [[0.84 0.16]]\n",
      "The text is predicted to be human-generated.\n"
     ]
    }
   ],
   "source": [
    "X = tf.drop(['text', 'cleaned_text'], axis=1)\n",
    "\n",
    "prediction_proba = model.predict_proba(X)\n",
    "prediction = model.predict(X)\n",
    "\n",
    "print(\"Prediction Probabilities:\", prediction_proba)\n",
    "\n",
    "if prediction == 0:\n",
    "    print(\"The text is predicted to be human-generated.\")\n",
    "else:\n",
    "    print(\"The text is predicted to be AI-generated.\")"
   ]
  }
 ],
 "metadata": {
  "kernelspec": {
   "display_name": "Python 3 (ipykernel)",
   "language": "python",
   "name": "python3"
  },
  "language_info": {
   "codemirror_mode": {
    "name": "ipython",
    "version": 3
   },
   "file_extension": ".py",
   "mimetype": "text/x-python",
   "name": "python",
   "nbconvert_exporter": "python",
   "pygments_lexer": "ipython3",
   "version": "3.11.2"
  }
 },
 "nbformat": 4,
 "nbformat_minor": 2
}
