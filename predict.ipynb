{
 "cells": [
  {
   "cell_type": "code",
   "execution_count": 2,
   "metadata": {},
   "outputs": [],
   "source": [
    "import pandas as pd\n",
    "import joblib"
   ]
  },
  {
   "cell_type": "code",
   "execution_count": 58,
   "metadata": {},
   "outputs": [],
   "source": [
    "df = pd.DataFrame()\n",
    "df['text'] = ['''In December 2016, Google Duo replaced Hangouts within the suite of Google apps device manufacturers must install in order to gain access to the Google Play, with Hangouts instead becoming optional.[5]\n",
    "\n",
    "In August 2020, it was reported that Google was planning to eventually merge Google Duo with the business-oriented Google Meet.[6] In December 2021 this objective had been dropped, but Duo continued to be available and updated.[7][1] In June 2022, Google reversed course and announced that Duo and Meet would, in fact, be merged.[8] The merger began in August, with the Duo mobile app renamed to Meet and the original Meet app renamed \"Meet Original\" and scheduled to be phased out. Google had said the Duo web app would redirected to the Google Meet web app, but as of April 2023, video calling and meetings are still separate on the web at duo.google.com and meet.google.com.[9]\n",
    "\n",
    "Google Duo was optimized for low-bandwidth mobile networks through WebRTC and uses QUIC over UDP. Optimization was further achieved through the degradation of video quality through monitoring network quality.[10] For packet loss concealment, Duo used Google DeepMind.[11]\n",
    "\n",
    "In February 2021, Google announced a new very low-bitrate codec for speech compression called \"Lyra\" that could operate with network speeds as low as 3kbps that avoided robotic voice audio and that was to be rolled out to Duo.[12]\n",
    "\n",
    "According to a technical study commissioned by Google from Signals Research Group in 2017 that compared degradation time over 3G,4G,5G and Wi-Fi, Duo provided the highest voice and video quality of any service or app.[13][14]\n",
    "\n",
    "\"Knock Knock\" showed a live preview of the caller before the recipient picked up, which Google said was to \"make calls feel more like an invitation rather than an interruption\".[15]\n",
    "\n",
    "In March 2017, it was announced that Google Duo would let users make audio-only calls. The feature was first launched in Brazil,[16][17][18] with a global rollout in April.[19]\n",
    "\n",
    "A year later in March 2018, video and voice messages were added to Duo. Users could leave messages up to 30 seconds long for contacts who were unavailable.[20]\n",
    "\n",
    "Support for eight-person video calls in both the iOS and Android versions of the app was added in May 2019.[21] In line with similar group calling offerings from FaceTime, Skype, WhatsApp, and Messenger, participants could join or leave the conversation at any time. Google Duo increased the maximum group size to 12 at the end of March 2020,[22][23] and to 32 by May 2022.[1]''']"
   ]
  },
  {
   "cell_type": "code",
   "execution_count": 59,
   "metadata": {},
   "outputs": [
    {
     "data": {
      "text/html": [
       "<div>\n",
       "<style scoped>\n",
       "    .dataframe tbody tr th:only-of-type {\n",
       "        vertical-align: middle;\n",
       "    }\n",
       "\n",
       "    .dataframe tbody tr th {\n",
       "        vertical-align: top;\n",
       "    }\n",
       "\n",
       "    .dataframe thead th {\n",
       "        text-align: right;\n",
       "    }\n",
       "</style>\n",
       "<table border=\"1\" class=\"dataframe\">\n",
       "  <thead>\n",
       "    <tr style=\"text-align: right;\">\n",
       "      <th></th>\n",
       "      <th>text</th>\n",
       "    </tr>\n",
       "  </thead>\n",
       "  <tbody>\n",
       "    <tr>\n",
       "      <th>0</th>\n",
       "      <td>In December 2016, Google Duo replaced Hangouts...</td>\n",
       "    </tr>\n",
       "  </tbody>\n",
       "</table>\n",
       "</div>"
      ],
      "text/plain": [
       "                                                text\n",
       "0  In December 2016, Google Duo replaced Hangouts..."
      ]
     },
     "execution_count": 59,
     "metadata": {},
     "output_type": "execute_result"
    }
   ],
   "source": [
    "df.head()"
   ]
  },
  {
   "cell_type": "code",
   "execution_count": 60,
   "metadata": {},
   "outputs": [],
   "source": [
    "df.to_csv('input.csv', index=False)"
   ]
  },
  {
   "cell_type": "code",
   "execution_count": 9,
   "metadata": {},
   "outputs": [],
   "source": [
    "tf = pd.read_csv('input.csv')"
   ]
  },
  {
   "cell_type": "code",
   "execution_count": 10,
   "metadata": {},
   "outputs": [
    {
     "data": {
      "text/html": [
       "<div>\n",
       "<style scoped>\n",
       "    .dataframe tbody tr th:only-of-type {\n",
       "        vertical-align: middle;\n",
       "    }\n",
       "\n",
       "    .dataframe tbody tr th {\n",
       "        vertical-align: top;\n",
       "    }\n",
       "\n",
       "    .dataframe thead th {\n",
       "        text-align: right;\n",
       "    }\n",
       "</style>\n",
       "<table border=\"1\" class=\"dataframe\">\n",
       "  <thead>\n",
       "    <tr style=\"text-align: right;\">\n",
       "      <th></th>\n",
       "      <th>text</th>\n",
       "      <th>cleaned_text</th>\n",
       "      <th>char_count</th>\n",
       "      <th>word_count</th>\n",
       "      <th>word_density</th>\n",
       "      <th>punctuation_count</th>\n",
       "      <th>upper_case_count</th>\n",
       "      <th>title_word_count</th>\n",
       "      <th>noun_count</th>\n",
       "      <th>adv_count</th>\n",
       "      <th>...</th>\n",
       "      <th>flesch_kincaid_score</th>\n",
       "      <th>flesch_score</th>\n",
       "      <th>gunning_fog_score</th>\n",
       "      <th>coleman_liau_score</th>\n",
       "      <th>dale_chall_score</th>\n",
       "      <th>ari_score</th>\n",
       "      <th>linsear_write_score</th>\n",
       "      <th>spache_score</th>\n",
       "      <th>ner_count</th>\n",
       "      <th>error_length</th>\n",
       "    </tr>\n",
       "  </thead>\n",
       "  <tbody>\n",
       "    <tr>\n",
       "      <th>0</th>\n",
       "      <td>In December 2016 , Google Duo replaced Hangout...</td>\n",
       "      <td>in december google duo replaced hangouts withi...</td>\n",
       "      <td>2295</td>\n",
       "      <td>391</td>\n",
       "      <td>0.17037</td>\n",
       "      <td>111</td>\n",
       "      <td>101</td>\n",
       "      <td>79</td>\n",
       "      <td>133</td>\n",
       "      <td>14</td>\n",
       "      <td>...</td>\n",
       "      <td>153.4</td>\n",
       "      <td>-308.48</td>\n",
       "      <td>160.29</td>\n",
       "      <td>12.45</td>\n",
       "      <td>27.47</td>\n",
       "      <td>197.0</td>\n",
       "      <td>62.0</td>\n",
       "      <td>57.73</td>\n",
       "      <td>43</td>\n",
       "      <td>87</td>\n",
       "    </tr>\n",
       "  </tbody>\n",
       "</table>\n",
       "<p>1 rows × 43 columns</p>\n",
       "</div>"
      ],
      "text/plain": [
       "                                                text  \\\n",
       "0  In December 2016 , Google Duo replaced Hangout...   \n",
       "\n",
       "                                        cleaned_text  char_count  word_count  \\\n",
       "0  in december google duo replaced hangouts withi...        2295         391   \n",
       "\n",
       "   word_density  punctuation_count  upper_case_count  title_word_count  \\\n",
       "0       0.17037                111               101                79   \n",
       "\n",
       "   noun_count  adv_count  ...  flesch_kincaid_score  flesch_score  \\\n",
       "0         133         14  ...                 153.4       -308.48   \n",
       "\n",
       "   gunning_fog_score  coleman_liau_score  dale_chall_score  ari_score  \\\n",
       "0             160.29               12.45             27.47      197.0   \n",
       "\n",
       "   linsear_write_score  spache_score  ner_count  error_length  \n",
       "0                 62.0         57.73         43            87  \n",
       "\n",
       "[1 rows x 43 columns]"
      ]
     },
     "execution_count": 10,
     "metadata": {},
     "output_type": "execute_result"
    }
   ],
   "source": [
    "tf.head()"
   ]
  },
  {
   "cell_type": "code",
   "execution_count": 23,
   "metadata": {},
   "outputs": [],
   "source": [
    "tf_f = pd.read_csv('input_format.csv')"
   ]
  },
  {
   "cell_type": "code",
   "execution_count": 24,
   "metadata": {},
   "outputs": [
    {
     "data": {
      "text/html": [
       "<div>\n",
       "<style scoped>\n",
       "    .dataframe tbody tr th:only-of-type {\n",
       "        vertical-align: middle;\n",
       "    }\n",
       "\n",
       "    .dataframe tbody tr th {\n",
       "        vertical-align: top;\n",
       "    }\n",
       "\n",
       "    .dataframe thead th {\n",
       "        text-align: right;\n",
       "    }\n",
       "</style>\n",
       "<table border=\"1\" class=\"dataframe\">\n",
       "  <thead>\n",
       "    <tr style=\"text-align: right;\">\n",
       "      <th></th>\n",
       "      <th>text</th>\n",
       "      <th>cleaned_text</th>\n",
       "      <th>char_count</th>\n",
       "      <th>word_count</th>\n",
       "      <th>word_density</th>\n",
       "      <th>punctuation_count</th>\n",
       "      <th>upper_case_count</th>\n",
       "      <th>title_word_count</th>\n",
       "      <th>noun_count</th>\n",
       "      <th>adv_count</th>\n",
       "      <th>...</th>\n",
       "      <th>young cows and</th>\n",
       "      <th>young people are</th>\n",
       "      <th>your car usage</th>\n",
       "      <th>your cell phone</th>\n",
       "      <th>your life and</th>\n",
       "      <th>your phone while</th>\n",
       "      <th>your time and</th>\n",
       "      <th>your time sincerely</th>\n",
       "      <th>youre going to</th>\n",
       "      <th>youre trying to</th>\n",
       "    </tr>\n",
       "  </thead>\n",
       "  <tbody>\n",
       "    <tr>\n",
       "      <th>0</th>\n",
       "      <td>The iPhone 6 and iPhone 6 Plus are smartphones...</td>\n",
       "      <td>the iphone and iphone plus are smartphones tha...</td>\n",
       "      <td>2361</td>\n",
       "      <td>385</td>\n",
       "      <td>0.163066</td>\n",
       "      <td>90</td>\n",
       "      <td>99</td>\n",
       "      <td>50</td>\n",
       "      <td>124</td>\n",
       "      <td>11</td>\n",
       "      <td>...</td>\n",
       "      <td>0</td>\n",
       "      <td>0</td>\n",
       "      <td>0</td>\n",
       "      <td>0</td>\n",
       "      <td>0</td>\n",
       "      <td>0</td>\n",
       "      <td>0</td>\n",
       "      <td>0</td>\n",
       "      <td>0</td>\n",
       "      <td>0</td>\n",
       "    </tr>\n",
       "  </tbody>\n",
       "</table>\n",
       "<p>1 rows × 15043 columns</p>\n",
       "</div>"
      ],
      "text/plain": [
       "                                                text  \\\n",
       "0  The iPhone 6 and iPhone 6 Plus are smartphones...   \n",
       "\n",
       "                                        cleaned_text  char_count  word_count  \\\n",
       "0  the iphone and iphone plus are smartphones tha...        2361         385   \n",
       "\n",
       "   word_density  punctuation_count  upper_case_count  title_word_count  \\\n",
       "0      0.163066                 90                99                50   \n",
       "\n",
       "   noun_count  adv_count  ...  young cows and  young people are  \\\n",
       "0         124         11  ...               0                 0   \n",
       "\n",
       "   your car usage  your cell phone  your life and  your phone while  \\\n",
       "0               0                0              0                 0   \n",
       "\n",
       "   your time and  your time sincerely  youre going to  youre trying to  \n",
       "0              0                    0               0                0  \n",
       "\n",
       "[1 rows x 15043 columns]"
      ]
     },
     "execution_count": 24,
     "metadata": {},
     "output_type": "execute_result"
    }
   ],
   "source": [
    "tf_f.head()"
   ]
  },
  {
   "cell_type": "code",
   "execution_count": 35,
   "metadata": {},
   "outputs": [],
   "source": [
    "tf_f2 = tf_f.columns[:43]"
   ]
  },
  {
   "cell_type": "code",
   "execution_count": 36,
   "metadata": {},
   "outputs": [
    {
     "ename": "AttributeError",
     "evalue": "'Index' object has no attribute 'head'",
     "output_type": "error",
     "traceback": [
      "\u001b[1;31m---------------------------------------------------------------------------\u001b[0m",
      "\u001b[1;31mAttributeError\u001b[0m                            Traceback (most recent call last)",
      "Cell \u001b[1;32mIn[36], line 1\u001b[0m\n\u001b[1;32m----> 1\u001b[0m \u001b[43mtf_f2\u001b[49m\u001b[38;5;241;43m.\u001b[39;49m\u001b[43mhead\u001b[49m()\n",
      "\u001b[1;31mAttributeError\u001b[0m: 'Index' object has no attribute 'head'"
     ]
    }
   ],
   "source": [
    "tf_f2.head()"
   ]
  },
  {
   "cell_type": "code",
   "execution_count": 10,
   "metadata": {},
   "outputs": [],
   "source": [
    "tf_f = tf"
   ]
  },
  {
   "cell_type": "code",
   "execution_count": 21,
   "metadata": {},
   "outputs": [
    {
     "data": {
      "text/html": [
       "<div>\n",
       "<style scoped>\n",
       "    .dataframe tbody tr th:only-of-type {\n",
       "        vertical-align: middle;\n",
       "    }\n",
       "\n",
       "    .dataframe tbody tr th {\n",
       "        vertical-align: top;\n",
       "    }\n",
       "\n",
       "    .dataframe thead th {\n",
       "        text-align: right;\n",
       "    }\n",
       "</style>\n",
       "<table border=\"1\" class=\"dataframe\">\n",
       "  <thead>\n",
       "    <tr style=\"text-align: right;\">\n",
       "      <th></th>\n",
       "      <th>to support</th>\n",
       "      <th>critics</th>\n",
       "      <th>error_length</th>\n",
       "      <th>linsear_write_score</th>\n",
       "      <th>ner_count</th>\n",
       "      <th>topic_3_score</th>\n",
       "      <th>topic_7_score</th>\n",
       "      <th>aspects</th>\n",
       "      <th>topic_11_score</th>\n",
       "      <th>it the</th>\n",
       "      <th>...</th>\n",
       "      <th>and they are</th>\n",
       "      <th>topic_12_score</th>\n",
       "      <th>eighth</th>\n",
       "      <th>extremely</th>\n",
       "      <th>the most</th>\n",
       "      <th>topic_18_score</th>\n",
       "      <th>dropped</th>\n",
       "      <th>on the</th>\n",
       "      <th>and they</th>\n",
       "      <th>topic_19_score</th>\n",
       "    </tr>\n",
       "  </thead>\n",
       "  <tbody>\n",
       "    <tr>\n",
       "      <th>0</th>\n",
       "      <td>1</td>\n",
       "      <td>1</td>\n",
       "      <td>71</td>\n",
       "      <td>61.0</td>\n",
       "      <td>38</td>\n",
       "      <td>0.997539</td>\n",
       "      <td>0</td>\n",
       "      <td>1</td>\n",
       "      <td>0</td>\n",
       "      <td>1</td>\n",
       "      <td>...</td>\n",
       "      <td>1</td>\n",
       "      <td>0</td>\n",
       "      <td>1</td>\n",
       "      <td>1</td>\n",
       "      <td>1</td>\n",
       "      <td>0</td>\n",
       "      <td>1</td>\n",
       "      <td>1</td>\n",
       "      <td>1</td>\n",
       "      <td>0</td>\n",
       "    </tr>\n",
       "  </tbody>\n",
       "</table>\n",
       "<p>1 rows × 150 columns</p>\n",
       "</div>"
      ],
      "text/plain": [
       "   to support  critics  error_length  linsear_write_score  ner_count  \\\n",
       "0           1        1            71                 61.0         38   \n",
       "\n",
       "   topic_3_score  topic_7_score  aspects  topic_11_score  it the  ...  \\\n",
       "0       0.997539              0        1               0       1  ...   \n",
       "\n",
       "   and they are  topic_12_score  eighth  extremely  the most  topic_18_score  \\\n",
       "0             1               0       1          1         1               0   \n",
       "\n",
       "   dropped  on the  and they  topic_19_score  \n",
       "0        1       1         1               0  \n",
       "\n",
       "[1 rows x 150 columns]"
      ]
     },
     "execution_count": 21,
     "metadata": {},
     "output_type": "execute_result"
    }
   ],
   "source": [
    "common_columns = list(set(tf.columns).intersection(tf_f.columns))\n",
    "# Create tf_f with the common columns\n",
    "tf_f = tf[common_columns] if common_columns else pd.DataFrame()\n",
    "# Now tf_f will have only the columns present in both tf and tf_f\n",
    "tf_f.head()\n"
   ]
  },
  {
   "cell_type": "code",
   "execution_count": 5,
   "metadata": {},
   "outputs": [],
   "source": [
    "model = joblib.load('model/rf_model.pkl')"
   ]
  },
  {
   "cell_type": "code",
   "execution_count": 11,
   "metadata": {},
   "outputs": [],
   "source": [
    "new_X = tf.drop(['text', 'cleaned_text'], axis=1)"
   ]
  },
  {
   "cell_type": "code",
   "execution_count": 12,
   "metadata": {},
   "outputs": [
    {
     "data": {
      "text/html": [
       "<div>\n",
       "<style scoped>\n",
       "    .dataframe tbody tr th:only-of-type {\n",
       "        vertical-align: middle;\n",
       "    }\n",
       "\n",
       "    .dataframe tbody tr th {\n",
       "        vertical-align: top;\n",
       "    }\n",
       "\n",
       "    .dataframe thead th {\n",
       "        text-align: right;\n",
       "    }\n",
       "</style>\n",
       "<table border=\"1\" class=\"dataframe\">\n",
       "  <thead>\n",
       "    <tr style=\"text-align: right;\">\n",
       "      <th></th>\n",
       "      <th>char_count</th>\n",
       "      <th>word_count</th>\n",
       "      <th>word_density</th>\n",
       "      <th>punctuation_count</th>\n",
       "      <th>upper_case_count</th>\n",
       "      <th>title_word_count</th>\n",
       "      <th>noun_count</th>\n",
       "      <th>adv_count</th>\n",
       "      <th>verb_count</th>\n",
       "      <th>adj_count</th>\n",
       "      <th>...</th>\n",
       "      <th>flesch_kincaid_score</th>\n",
       "      <th>flesch_score</th>\n",
       "      <th>gunning_fog_score</th>\n",
       "      <th>coleman_liau_score</th>\n",
       "      <th>dale_chall_score</th>\n",
       "      <th>ari_score</th>\n",
       "      <th>linsear_write_score</th>\n",
       "      <th>spache_score</th>\n",
       "      <th>ner_count</th>\n",
       "      <th>error_length</th>\n",
       "    </tr>\n",
       "  </thead>\n",
       "  <tbody>\n",
       "    <tr>\n",
       "      <th>0</th>\n",
       "      <td>2295</td>\n",
       "      <td>391</td>\n",
       "      <td>0.17037</td>\n",
       "      <td>111</td>\n",
       "      <td>101</td>\n",
       "      <td>79</td>\n",
       "      <td>133</td>\n",
       "      <td>14</td>\n",
       "      <td>75</td>\n",
       "      <td>29</td>\n",
       "      <td>...</td>\n",
       "      <td>153.4</td>\n",
       "      <td>-308.48</td>\n",
       "      <td>160.29</td>\n",
       "      <td>12.45</td>\n",
       "      <td>27.47</td>\n",
       "      <td>197.0</td>\n",
       "      <td>62.0</td>\n",
       "      <td>57.73</td>\n",
       "      <td>43</td>\n",
       "      <td>87</td>\n",
       "    </tr>\n",
       "  </tbody>\n",
       "</table>\n",
       "<p>1 rows × 41 columns</p>\n",
       "</div>"
      ],
      "text/plain": [
       "   char_count  word_count  word_density  punctuation_count  upper_case_count  \\\n",
       "0        2295         391       0.17037                111               101   \n",
       "\n",
       "   title_word_count  noun_count  adv_count  verb_count  adj_count  ...  \\\n",
       "0                79         133         14          75         29  ...   \n",
       "\n",
       "   flesch_kincaid_score  flesch_score  gunning_fog_score  coleman_liau_score  \\\n",
       "0                 153.4       -308.48             160.29               12.45   \n",
       "\n",
       "   dale_chall_score  ari_score  linsear_write_score  spache_score  ner_count  \\\n",
       "0             27.47      197.0                 62.0         57.73         43   \n",
       "\n",
       "   error_length  \n",
       "0            87  \n",
       "\n",
       "[1 rows x 41 columns]"
      ]
     },
     "execution_count": 12,
     "metadata": {},
     "output_type": "execute_result"
    }
   ],
   "source": [
    "new_X.head()\n",
    "# print(\"Shape of new_text_features:\", new_X.shape)\n",
    "# print(\"Data types of new_text_features:\", new_X.dtypes)\n",
    "# new_X.drop(new_X.columns[-2:], axis=1, inplace=True)"
   ]
  },
  {
   "cell_type": "code",
   "execution_count": 15,
   "metadata": {},
   "outputs": [
    {
     "name": "stdout",
     "output_type": "stream",
     "text": [
      "Prediction Probabilities: [[0.52 0.48]]\n",
      "The text is predicted to be human-generated.\n"
     ]
    }
   ],
   "source": [
    "prediction_proba = model.predict_proba(new_X)\n",
    "prediction = model.predict(new_X)\n",
    "\n",
    "print(\"Prediction Probabilities:\", prediction_proba)\n",
    "\n",
    "# Display the result\n",
    "if prediction == 0:\n",
    "    print(\"The text is predicted to be human-generated.\")\n",
    "else:\n",
    "    print(\"The text is predicted to be AI-generated.\")"
   ]
  }
 ],
 "metadata": {
  "kernelspec": {
   "display_name": "Python 3 (ipykernel)",
   "language": "python",
   "name": "python3"
  },
  "language_info": {
   "codemirror_mode": {
    "name": "ipython",
    "version": 3
   },
   "file_extension": ".py",
   "mimetype": "text/x-python",
   "name": "python",
   "nbconvert_exporter": "python",
   "pygments_lexer": "ipython3",
   "version": "3.11.2"
  }
 },
 "nbformat": 4,
 "nbformat_minor": 2
}
